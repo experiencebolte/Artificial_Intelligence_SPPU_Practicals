{
 "cells": [
  {
   "cell_type": "code",
   "execution_count": 17,
   "id": "0eb372bd",
   "metadata": {},
   "outputs": [],
   "source": [
    "class Graph:\n",
    "    def __init__(self,vertices):\n",
    "        self.vertices = vertices\n",
    "        self.adj_matrix = [[0 for i in range(vertices)] for j in range(vertices)]\n",
    "    \n",
    "    def add_edge(self,u,v):\n",
    "        self.adj_matrix[u][v] = 1\n",
    "        self.adj_matrix[v][u] = 1\n",
    "        \n",
    "    def dfs(self,start):\n",
    "        visited = [False for i in range(self.vertices)]\n",
    "        visited[start] = True\n",
    "        stack = []\n",
    "        stack.append(start)\n",
    "        while stack:\n",
    "            \n",
    "            s = stack.pop()\n",
    "            print(s,end = ' ')\n",
    "            \n",
    "            for i in range(self.vertices):\n",
    "                if self.adj_matrix[s][i] == 1 and not visited[i]:\n",
    "                    stack.append(i)\n",
    "                    visited[i] = True\n",
    "            \n",
    "    def bfs(self,start):\n",
    "        visited = [False]*self.vertices\n",
    "        queue = []\n",
    "        queue.append(start)\n",
    "        visited[start] = True\n",
    "        while queue:\n",
    "            s = queue.pop(0)\n",
    "            print(s,end = ' ')\n",
    "            for i in range(self.vertices):\n",
    "                if self.adj_matrix[s][i] == 1 and not visited[i]:\n",
    "                    queue.append(i)\n",
    "                    visited[i] = True\n",
    "            \n",
    "            \n",
    "        "
   ]
  },
  {
   "cell_type": "code",
   "execution_count": 18,
   "id": "2c6cd860",
   "metadata": {},
   "outputs": [],
   "source": [
    "g = Graph(5)"
   ]
  },
  {
   "cell_type": "code",
   "execution_count": 19,
   "id": "dac571cd",
   "metadata": {},
   "outputs": [],
   "source": [
    "g.add_edge(0,1)\n",
    "g.add_edge(0,2)\n",
    "g.add_edge(1,3)\n",
    "g.add_edge(1,4)"
   ]
  },
  {
   "cell_type": "code",
   "execution_count": 20,
   "id": "94db9fc1",
   "metadata": {},
   "outputs": [
    {
     "name": "stdout",
     "output_type": "stream",
     "text": [
      "0 2 1 4 3 \n",
      "0 1 2 3 4 "
     ]
    }
   ],
   "source": [
    "g.dfs(0)\n",
    "print()\n",
    "g.bfs(0)"
   ]
  },
  {
   "cell_type": "code",
   "execution_count": null,
   "id": "5c5612f8",
   "metadata": {},
   "outputs": [],
   "source": []
  }
 ],
 "metadata": {
  "kernelspec": {
   "display_name": "Python 3 (ipykernel)",
   "language": "python",
   "name": "python3"
  },
  "language_info": {
   "codemirror_mode": {
    "name": "ipython",
    "version": 3
   },
   "file_extension": ".py",
   "mimetype": "text/x-python",
   "name": "python",
   "nbconvert_exporter": "python",
   "pygments_lexer": "ipython3",
   "version": "3.11.2"
  }
 },
 "nbformat": 4,
 "nbformat_minor": 5
}
